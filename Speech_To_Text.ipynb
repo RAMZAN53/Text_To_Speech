{
 "cells": [
  {
   "cell_type": "code",
   "execution_count": 3,
   "id": "4b839c5e-ae77-4068-afde-890466ca4f0b",
   "metadata": {},
   "outputs": [
    {
     "name": "stdout",
     "output_type": "stream",
     "text": [
      "Collecting SpeechRecognition\n",
      "  Downloading speechrecognition-3.14.2-py3-none-any.whl.metadata (30 kB)\n",
      "Collecting pyaudio\n",
      "  Downloading PyAudio-0.2.14-cp313-cp313-win_amd64.whl.metadata (2.7 kB)\n",
      "Requirement already satisfied: typing-extensions in c:\\users\\doctor computers\\appdata\\local\\programs\\python\\python313\\lib\\site-packages (from SpeechRecognition) (4.12.2)\n",
      "Collecting standard-aifc (from SpeechRecognition)\n",
      "  Downloading standard_aifc-3.13.0-py3-none-any.whl.metadata (969 bytes)\n",
      "Collecting audioop-lts (from SpeechRecognition)\n",
      "  Downloading audioop_lts-0.2.1-cp313-abi3-win_amd64.whl.metadata (1.7 kB)\n",
      "Collecting standard-chunk (from standard-aifc->SpeechRecognition)\n",
      "  Downloading standard_chunk-3.13.0-py3-none-any.whl.metadata (860 bytes)\n",
      "Downloading speechrecognition-3.14.2-py3-none-any.whl (32.9 MB)\n",
      "   ---------------------------------------- 0.0/32.9 MB ? eta -:--:--\n",
      "   ---------------------------------------- 0.0/32.9 MB ? eta -:--:--\n",
      "   ---------------------------------------- 0.3/32.9 MB ? eta -:--:--\n",
      "   - -------------------------------------- 1.0/32.9 MB 2.7 MB/s eta 0:00:12\n",
      "   -- ------------------------------------- 2.4/32.9 MB 4.2 MB/s eta 0:00:08\n",
      "   ------ --------------------------------- 5.0/32.9 MB 6.7 MB/s eta 0:00:05\n",
      "   ------- -------------------------------- 6.6/32.9 MB 6.8 MB/s eta 0:00:04\n",
      "   ----------- ---------------------------- 9.2/32.9 MB 7.8 MB/s eta 0:00:04\n",
      "   -------------- ------------------------- 11.5/32.9 MB 8.5 MB/s eta 0:00:03\n",
      "   ----------------- ---------------------- 14.4/32.9 MB 9.2 MB/s eta 0:00:02\n",
      "   --------------------- ------------------ 17.3/32.9 MB 9.8 MB/s eta 0:00:02\n",
      "   ---------------------- ----------------- 18.9/32.9 MB 9.5 MB/s eta 0:00:02\n",
      "   -------------------------- ------------- 22.0/32.9 MB 10.1 MB/s eta 0:00:02\n",
      "   ------------------------------ --------- 24.6/32.9 MB 10.3 MB/s eta 0:00:01\n",
      "   --------------------------------- ------ 27.5/32.9 MB 10.5 MB/s eta 0:00:01\n",
      "   ------------------------------------- -- 30.4/32.9 MB 10.9 MB/s eta 0:00:01\n",
      "   ---------------------------------------  32.8/32.9 MB 11.0 MB/s eta 0:00:01\n",
      "   ---------------------------------------- 32.9/32.9 MB 10.2 MB/s eta 0:00:00\n",
      "Downloading PyAudio-0.2.14-cp313-cp313-win_amd64.whl (173 kB)\n",
      "Downloading audioop_lts-0.2.1-cp313-abi3-win_amd64.whl (30 kB)\n",
      "Downloading standard_aifc-3.13.0-py3-none-any.whl (10 kB)\n",
      "Downloading standard_chunk-3.13.0-py3-none-any.whl (4.9 kB)\n",
      "Installing collected packages: standard-chunk, pyaudio, audioop-lts, standard-aifc, SpeechRecognition\n",
      "Successfully installed SpeechRecognition-3.14.2 audioop-lts-0.2.1 pyaudio-0.2.14 standard-aifc-3.13.0 standard-chunk-3.13.0\n",
      "Note: you may need to restart the kernel to use updated packages.\n"
     ]
    },
    {
     "name": "stderr",
     "output_type": "stream",
     "text": [
      "\n",
      "[notice] A new release of pip is available: 24.3.1 -> 25.0.1\n",
      "[notice] To update, run: python.exe -m pip install --upgrade pip\n"
     ]
    }
   ],
   "source": [
    "pip install SpeechRecognition pyaudio"
   ]
  },
  {
   "cell_type": "code",
   "execution_count": 4,
   "id": "8a007aee-3e13-4e07-bde2-ad2f78412193",
   "metadata": {},
   "outputs": [],
   "source": [
    "import speech_recognition as sr\n",
    "import os"
   ]
  },
  {
   "cell_type": "code",
   "execution_count": 5,
   "id": "3450a86d-992f-4926-b424-5e3d9321f871",
   "metadata": {},
   "outputs": [],
   "source": [
    "def Get_Audio_Input(recognizer, input_method, audio_file=None):\n",
    "    try:\n",
    "        if input_method == \"mic\":\n",
    "            with sr.Microphone() as source:\n",
    "                print(\"\\n\\033[36mSpeak now (wait for the listening prompt)...\\033[0m\")\n",
    "                recognizer.adjust_for_ambient_noise(source, duration=1)\n",
    "                print(\"\\033[33mListening...\\033[0m\")\n",
    "                return recognizer.listen(source, timeout=5, phrase_time_limit=10)\n",
    "        elif input_method == \"file\":\n",
    "            if not audio_file or not os.path.exists(audio_file):\n",
    "                raise ValueError(\"Invalid audio file path\")\n",
    "            with sr.AudioFile(audio_file) as source:\n",
    "                return recognizer.record(source)\n",
    "    except Exception as e:\n",
    "        print(f\"\\033[91mError during audio capture: {e}\\033[0m\")\n",
    "        return None"
   ]
  },
  {
   "cell_type": "code",
   "execution_count": 9,
   "id": "cf1750ee-a1d4-4bcb-a377-b427a76669ca",
   "metadata": {},
   "outputs": [],
   "source": [
    "def Speech_To_Text():\n",
    "    recognizer = sr.Recognizer()\n",
    "    while True:\n",
    "        print(\"\\n\\033[1m=== SPEECH TO TEXT CONVERTER ===\\033[0m\")\n",
    "        print(\"1. 🎤 Use microphone\")\n",
    "        print(\"2. 📂 Use audio file\")\n",
    "        print(\"3. ❌ Exit\")\n",
    "        \n",
    "        choice = input(\"\\nChoose input method (1/2/3): \").strip()\n",
    "        \n",
    "        if choice == \"3\":\n",
    "            print(\"Exiting...\")\n",
    "            break\n",
    "            \n",
    "        if choice not in (\"1\", \"2\"):\n",
    "            print(\"\\033[91mInvalid choice. Please try again.\\033[0m\")\n",
    "            continue\n",
    "            \n",
    "        input_method = \"mic\" if choice == \"1\" else \"file\"\n",
    "        audio_file = None\n",
    "        \n",
    "        if input_method == \"file\":\n",
    "            audio_file = input(\"Enter full path to audio file (WAV/FLAC/AIFF): \").strip()\n",
    "            if not audio_file:\n",
    "                print(\"\\033[91mNo file path provided\\033[0m\")\n",
    "                continue\n",
    "        \n",
    "        audio = Get_Audio_Input(recognizer, input_method, audio_file)\n",
    "        if not audio:\n",
    "            continue\n",
    "            \n",
    "        try:\n",
    "            text = recognizer.recognize_google(audio)\n",
    "            print(\"\\n\\033[92mTranscription Result:\\033[0m\")\n",
    "            print(\"\\033[1m\" + text + \"\\033[0m\")\n",
    "            \n",
    "            # Option to save to file\n",
    "            save_choice = input(\"\\nSave to text file? (y/n): \").lower()\n",
    "            if save_choice == \"y\":\n",
    "                with open(\"transcription.txt\", \"w\") as f:\n",
    "                    f.write(text)\n",
    "                print(\"Saved to transcription.txt\")\n",
    "                \n",
    "        except sr.UnknownValueError:\n",
    "            print(\"\\033[91mCould not understand audio\\033[0m\")\n",
    "        except sr.RequestError:\n",
    "            print(\"\\033[91mAPI unavailable. Check internet connection\\033[0m\")\n",
    "        except Exception as e:\n",
    "            print(f\"\\033[91mError: {e}\\033[0m\")"
   ]
  },
  {
   "cell_type": "code",
   "execution_count": 11,
   "id": "2f9a2b1a-1c93-44a8-bd04-0fad5bbe222c",
   "metadata": {},
   "outputs": [
    {
     "name": "stdout",
     "output_type": "stream",
     "text": [
      "\n",
      "\u001b[1m=== SPEECH TO TEXT CONVERTER ===\u001b[0m\n",
      "1. 🎤 Use microphone\n",
      "2. 📂 Use audio file\n",
      "3. ❌ Exit\n"
     ]
    },
    {
     "name": "stdin",
     "output_type": "stream",
     "text": [
      "\n",
      "Choose input method (1/2/3):  3\n"
     ]
    },
    {
     "name": "stdout",
     "output_type": "stream",
     "text": [
      "Exiting...\n"
     ]
    }
   ],
   "source": [
    "if __name__ == \"__main__\":\n",
    "    try:\n",
    "        sr.Microphone()\n",
    "    except:\n",
    "        print(\"\\033[91mPyAudio not installed. For microphone input, please install with:\")\n",
    "        print(\"pip install pyaudio\\033[0m\")\n",
    "    \n",
    "    Speech_To_Text()"
   ]
  },
  {
   "cell_type": "code",
   "execution_count": null,
   "id": "a2ffd068-3a25-4dcf-b4d7-3ef47e82123f",
   "metadata": {},
   "outputs": [],
   "source": []
  }
 ],
 "metadata": {
  "kernelspec": {
   "display_name": "Python 3 (ipykernel)",
   "language": "python",
   "name": "python3"
  },
  "language_info": {
   "codemirror_mode": {
    "name": "ipython",
    "version": 3
   },
   "file_extension": ".py",
   "mimetype": "text/x-python",
   "name": "python",
   "nbconvert_exporter": "python",
   "pygments_lexer": "ipython3",
   "version": "3.13.1"
  }
 },
 "nbformat": 4,
 "nbformat_minor": 5
}
